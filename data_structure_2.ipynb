{
 "cells": [
  {
   "cell_type": "code",
   "execution_count": 9,
   "id": "3dce8472-88bb-43db-bd62-0fb031b618b3",
   "metadata": {},
   "outputs": [],
   "source": [
    "# Ques 1: Discuss string slicing in python and provide examples? "
   ]
  },
  {
   "cell_type": "code",
   "execution_count": 12,
   "id": "9bfd7ebc-d5bb-4614-9f38-680a48334c1d",
   "metadata": {},
   "outputs": [
    {
     "name": "stdout",
     "output_type": "stream",
     "text": [
      "This is \n"
     ]
    }
   ],
   "source": [
    "#my_list = [start:end:step]\n",
    "#Slicing with positive indices\n",
    "my_list = \"This is a string\"\n",
    "print (my_list[0:8])"
   ]
  },
  {
   "cell_type": "code",
   "execution_count": 5,
   "id": "2029d54d-4e8b-4488-af68-b76b81e871d9",
   "metadata": {},
   "outputs": [
    {
     "name": "stdout",
     "output_type": "stream",
     "text": [
      "This is \n"
     ]
    }
   ],
   "source": [
    "my_list = \"This is a string\"\n",
    "print (my_list[:8])"
   ]
  },
  {
   "cell_type": "code",
   "execution_count": 6,
   "id": "524e007a-d251-4556-811e-b89384f45215",
   "metadata": {},
   "outputs": [
    {
     "name": "stdout",
     "output_type": "stream",
     "text": [
      "is a string\n"
     ]
    }
   ],
   "source": [
    "my_list = \"This is a string\"\n",
    "print (my_list[5:])"
   ]
  },
  {
   "cell_type": "code",
   "execution_count": 7,
   "id": "0a422b8e-d891-4542-a19e-6ac431a66490",
   "metadata": {},
   "outputs": [
    {
     "name": "stdout",
     "output_type": "stream",
     "text": [
      "Ti s\n"
     ]
    }
   ],
   "source": [
    "my_list = \"This is a string\"\n",
    "print (my_list[0:8:2])"
   ]
  },
  {
   "cell_type": "code",
   "execution_count": 13,
   "id": "5997df7d-4156-4928-ac14-d64360f10de0",
   "metadata": {},
   "outputs": [
    {
     "name": "stdout",
     "output_type": "stream",
     "text": [
      "Ti sasrn\n"
     ]
    }
   ],
   "source": [
    "my_list = \"This is a string\"\n",
    "print (my_list[: : 2])"
   ]
  },
  {
   "cell_type": "code",
   "execution_count": 14,
   "id": "2b9805da-ac21-448b-9751-72154d23cefb",
   "metadata": {},
   "outputs": [
    {
     "name": "stdout",
     "output_type": "stream",
     "text": [
      "This is a string\n"
     ]
    }
   ],
   "source": [
    "my_list = \"This is a string\"\n",
    "print (my_list[:])"
   ]
  },
  {
   "cell_type": "code",
   "execution_count": 18,
   "id": "fa397d53-b078-4922-9f74-133090af73cd",
   "metadata": {},
   "outputs": [
    {
     "name": "stdout",
     "output_type": "stream",
     "text": [
      "a strin\n"
     ]
    }
   ],
   "source": [
    "#Slicing with negative indices\n",
    "my_list = \"This is a string\"\n",
    "print (my_list[-8:-1])"
   ]
  },
  {
   "cell_type": "code",
   "execution_count": 19,
   "id": "9ee3cd06-5dac-4b58-864d-e282930b5a54",
   "metadata": {},
   "outputs": [
    {
     "name": "stdout",
     "output_type": "stream",
     "text": [
      "This is a strin\n"
     ]
    }
   ],
   "source": [
    "my_list = \"This is a string\"\n",
    "print (my_list[:-1])"
   ]
  },
  {
   "cell_type": "code",
   "execution_count": 20,
   "id": "fe539d8d-37e7-4075-85d4-be3738797c86",
   "metadata": {},
   "outputs": [
    {
     "name": "stdout",
     "output_type": "stream",
     "text": [
      "tring\n"
     ]
    }
   ],
   "source": [
    "my_list = \"This is a string\"\n",
    "print (my_list[-5:])"
   ]
  },
  {
   "cell_type": "code",
   "execution_count": 21,
   "id": "792e9610-c6cd-4e9e-a0e0-3718e7533b0a",
   "metadata": {},
   "outputs": [
    {
     "name": "stdout",
     "output_type": "stream",
     "text": [
      "asrn\n"
     ]
    }
   ],
   "source": [
    "my_list = \"This is a string\"\n",
    "print (my_list[-8:-1:2])"
   ]
  },
  {
   "cell_type": "code",
   "execution_count": 22,
   "id": "4f90235b-b1c4-4441-98b2-8d1cc6b6e01b",
   "metadata": {},
   "outputs": [
    {
     "name": "stdout",
     "output_type": "stream",
     "text": [
      "Ti sasrn\n"
     ]
    }
   ],
   "source": [
    "my_list = \"This is a string\"\n",
    "print (my_list[: : 2])"
   ]
  },
  {
   "cell_type": "code",
   "execution_count": 23,
   "id": "1d94474d-0018-4b6b-adbe-99dd8ca6eb4d",
   "metadata": {},
   "outputs": [
    {
     "name": "stdout",
     "output_type": "stream",
     "text": [
      "This is a string\n"
     ]
    }
   ],
   "source": [
    "my_list = \"This is a string\"\n",
    "print (my_list[:])"
   ]
  },
  {
   "cell_type": "code",
   "execution_count": 11,
   "id": "763a2b38-d8a9-4a21-a028-df132ad136d6",
   "metadata": {},
   "outputs": [],
   "source": [
    "# Ques 2: Explain the key features of lists in Python?"
   ]
  },
  {
   "cell_type": "code",
   "execution_count": 26,
   "id": "c2ed0bcd-6970-419c-9fff-530e15383121",
   "metadata": {},
   "outputs": [
    {
     "name": "stdout",
     "output_type": "stream",
     "text": [
      "[1, 2, 3, 4]\n"
     ]
    }
   ],
   "source": [
    "#Ordered\n",
    "my_list = [1, 2, 3, 4]\n",
    "print(my_list)"
   ]
  },
  {
   "cell_type": "code",
   "execution_count": 27,
   "id": "0738e2ae-4406-4dd0-a407-2258a29520da",
   "metadata": {},
   "outputs": [
    {
     "name": "stdout",
     "output_type": "stream",
     "text": [
      "[1, 10, 3]\n"
     ]
    }
   ],
   "source": [
    "# Mutable\n",
    "my_list = [1, 2, 3]\n",
    "my_list[1] = 10\n",
    "print(my_list)"
   ]
  },
  {
   "cell_type": "code",
   "execution_count": 28,
   "id": "7cb70fc0-f8d4-4919-8925-2fce4005a298",
   "metadata": {},
   "outputs": [
    {
     "name": "stdout",
     "output_type": "stream",
     "text": [
      "[1, 2, 2, 3]\n"
     ]
    }
   ],
   "source": [
    "# Duplicate \n",
    "# Here 2 is duplicate as it is repeated two times\n",
    "my_list = [1, 2, 2, 3]\n",
    "print(my_list)"
   ]
  },
  {
   "cell_type": "code",
   "execution_count": 29,
   "id": "847120f5-7996-4e6d-885d-194760125cb9",
   "metadata": {},
   "outputs": [
    {
     "name": "stdout",
     "output_type": "stream",
     "text": [
      "[1, 'hello', 3.5, [2, 3]]\n"
     ]
    }
   ],
   "source": [
    "# Heterogeneous\n",
    "# That means it can have different datatypes\n",
    "my_list = [1, \"hello\", 3.5, [2, 3]]\n",
    "print(my_list)"
   ]
  },
  {
   "cell_type": "code",
   "execution_count": 30,
   "id": "7fefc8de-b456-44e8-83f8-3534399540de",
   "metadata": {},
   "outputs": [
    {
     "name": "stdout",
     "output_type": "stream",
     "text": [
      "[1, 2, 3, 4]\n"
     ]
    }
   ],
   "source": [
    "# Dynamic in nature\n",
    "# This means you can add, remove, insert and short \n",
    "my_list = [1, 2, 3]\n",
    "my_list.append(4)\n",
    "print(my_list)"
   ]
  },
  {
   "cell_type": "code",
   "execution_count": 32,
   "id": "284aed7c-82c5-4c48-ba07-07ccfafa9dc8",
   "metadata": {},
   "outputs": [
    {
     "name": "stdout",
     "output_type": "stream",
     "text": [
      "[1, 2, 3, 4]\n"
     ]
    }
   ],
   "source": [
    "my_list = [1, 2, 3]\n",
    "my_list.extend([4])  \n",
    "print(my_list)"
   ]
  },
  {
   "cell_type": "code",
   "execution_count": 35,
   "id": "cdd48df9-a22c-4b0f-a773-958a36327b4c",
   "metadata": {},
   "outputs": [
    {
     "name": "stdout",
     "output_type": "stream",
     "text": [
      "[1, 2, 3, 4]\n"
     ]
    }
   ],
   "source": [
    "my_list = [1, 2, 3]\n",
    "my_list.insert(3, 4)\n",
    "print(my_list)"
   ]
  },
  {
   "cell_type": "code",
   "execution_count": 39,
   "id": "ef73ee44-5658-4e8e-a0e2-aa9f37003d4b",
   "metadata": {},
   "outputs": [
    {
     "name": "stdout",
     "output_type": "stream",
     "text": [
      "[1, 2]\n"
     ]
    }
   ],
   "source": [
    "my_list = [1, 2, 3]\n",
    "my_list.remove(3)\n",
    "print(my_list)"
   ]
  },
  {
   "cell_type": "code",
   "execution_count": 42,
   "id": "987ea2a3-49c6-4a51-acf7-298ef1930c7f",
   "metadata": {},
   "outputs": [
    {
     "name": "stdout",
     "output_type": "stream",
     "text": [
      "[1, 3]\n"
     ]
    }
   ],
   "source": [
    "my_list = [1, 2, 3]\n",
    "my_list.pop(1)\n",
    "print(my_list)"
   ]
  },
  {
   "cell_type": "code",
   "execution_count": 44,
   "id": "91396043-092c-4ea7-8a38-63c3d6bb378d",
   "metadata": {},
   "outputs": [
    {
     "name": "stdout",
     "output_type": "stream",
     "text": [
      "[1, 2, 3]\n"
     ]
    }
   ],
   "source": [
    "my_list = [3, 2, 1]\n",
    "my_list.sort()\n",
    "print(my_list)"
   ]
  },
  {
   "cell_type": "code",
   "execution_count": 45,
   "id": "4b84368e-4b3d-4154-a09f-6f3bbe5a2836",
   "metadata": {},
   "outputs": [
    {
     "name": "stdout",
     "output_type": "stream",
     "text": [
      "[3, 2, 1]\n"
     ]
    }
   ],
   "source": [
    "my_list = [1, 2, 3]\n",
    "my_list.reverse()\n",
    "print(my_list)"
   ]
  },
  {
   "cell_type": "code",
   "execution_count": 46,
   "id": "4609dcf9-7e45-46b8-8678-4b89003ebff7",
   "metadata": {},
   "outputs": [
    {
     "name": "stdout",
     "output_type": "stream",
     "text": [
      "30\n",
      "50\n",
      "[20, 30, 40]\n"
     ]
    }
   ],
   "source": [
    "#Indexing and Slicing\n",
    "my_list = [10, 20, 30, 40, 50]\n",
    "print(my_list[2])    \n",
    "print(my_list[-1])   \n",
    "print(my_list[1:4]) "
   ]
  },
  {
   "cell_type": "code",
   "execution_count": 47,
   "id": "baf83da9-c288-4ede-8d86-715dff33e3bf",
   "metadata": {},
   "outputs": [
    {
     "name": "stdout",
     "output_type": "stream",
     "text": [
      "1\n",
      "2\n",
      "3\n"
     ]
    }
   ],
   "source": [
    "#Iterable\n",
    "my_list = [1, 2, 3]\n",
    "for item in my_list:\n",
    "    print(item)"
   ]
  },
  {
   "cell_type": "code",
   "execution_count": 48,
   "id": "e3e9439e-62ae-45e0-9706-c0fd1ca70412",
   "metadata": {},
   "outputs": [],
   "source": [
    "# Ques 3 : Describe how to access, modify and delete elements in a list with examples?"
   ]
  },
  {
   "cell_type": "code",
   "execution_count": 49,
   "id": "d187197b-eb14-43d4-a4bb-a201207df52a",
   "metadata": {},
   "outputs": [
    {
     "name": "stdout",
     "output_type": "stream",
     "text": [
      "20\n",
      "50\n"
     ]
    }
   ],
   "source": [
    "# Accessing Elements in a List\n",
    "# Indexing\n",
    "my_list = [10, 20, 30, 40, 50]\n",
    "print(my_list[1])\n",
    "print(my_list[-1])"
   ]
  },
  {
   "cell_type": "code",
   "execution_count": 50,
   "id": "27b11430-871c-49c3-b598-facec9b4cf1b",
   "metadata": {},
   "outputs": [
    {
     "name": "stdout",
     "output_type": "stream",
     "text": [
      "[20, 30, 40]\n",
      "[10, 30, 50]\n"
     ]
    }
   ],
   "source": [
    "#Slicing\n",
    "my_list = [10, 20, 30, 40, 50]\n",
    "print(my_list[1:4]) \n",
    "print(my_list[::2])"
   ]
  },
  {
   "cell_type": "code",
   "execution_count": 54,
   "id": "af90e43c-1d15-41fe-8ce0-2d834c885077",
   "metadata": {},
   "outputs": [
    {
     "name": "stdout",
     "output_type": "stream",
     "text": [
      "[10, 200, 30, 40, 50]\n"
     ]
    }
   ],
   "source": [
    "# Modifying Elements in a List\n",
    "#Modifying a Single Element\n",
    "my_list = [10, 20, 30, 40, 50]\n",
    "my_list[1] = 200\n",
    "print(my_list) "
   ]
  },
  {
   "cell_type": "code",
   "execution_count": 55,
   "id": "370fc635-3240-4adc-b385-cf5f187c923d",
   "metadata": {},
   "outputs": [
    {
     "name": "stdout",
     "output_type": "stream",
     "text": [
      "[10, 200, 300, 400, 50]\n"
     ]
    }
   ],
   "source": [
    "#Modifying Multiple Elements Using Slicing\n",
    "my_list = [10, 20, 30, 40, 50]\n",
    "my_list[1:4] = [200, 300, 400]\n",
    "print(my_list)"
   ]
  },
  {
   "cell_type": "code",
   "execution_count": 56,
   "id": "81d57bb7-f393-4d65-aa58-f1e4fe357fa5",
   "metadata": {},
   "outputs": [
    {
     "name": "stdout",
     "output_type": "stream",
     "text": [
      "[10, 20, 40, 50]\n"
     ]
    }
   ],
   "source": [
    "# Deleting Elements in a List\n",
    "my_list = [10, 20, 30, 40, 50]\n",
    "del my_list[2]\n",
    "print(my_list)"
   ]
  },
  {
   "cell_type": "code",
   "execution_count": 57,
   "id": "3d9d906d-5ea8-4dfb-9f7b-8acb202e19c2",
   "metadata": {},
   "outputs": [
    {
     "name": "stdout",
     "output_type": "stream",
     "text": [
      "[10, 50]\n"
     ]
    }
   ],
   "source": [
    "my_list = [10, 20, 30, 40, 50]\n",
    "del my_list[1:4]\n",
    "print(my_list)"
   ]
  },
  {
   "cell_type": "code",
   "execution_count": 58,
   "id": "ec928fbf-03b3-490c-87c1-36d157106608",
   "metadata": {},
   "outputs": [
    {
     "name": "stdout",
     "output_type": "stream",
     "text": [
      "[10, 30, 40, 50]\n"
     ]
    }
   ],
   "source": [
    "my_list = [10, 20, 30, 40, 50]\n",
    "my_list.pop(1)\n",
    "print(my_list)"
   ]
  },
  {
   "cell_type": "code",
   "execution_count": 60,
   "id": "311ba387-6f1b-4bee-9c2e-0d149f931e3f",
   "metadata": {},
   "outputs": [
    {
     "name": "stdout",
     "output_type": "stream",
     "text": [
      "[10, 20, 30, 40]\n"
     ]
    }
   ],
   "source": [
    "# It will remove the last element as no index is provided\n",
    "my_list = [10, 20, 30, 40, 50]\n",
    "my_list.pop()\n",
    "print(my_list)"
   ]
  },
  {
   "cell_type": "code",
   "execution_count": 61,
   "id": "1f872d93-f632-433e-991f-e4eacd4e1950",
   "metadata": {},
   "outputs": [
    {
     "name": "stdout",
     "output_type": "stream",
     "text": [
      "[10, 20, 40, 50]\n"
     ]
    }
   ],
   "source": [
    "my_list = [10, 20, 30, 40, 50]\n",
    "my_list.remove(30)\n",
    "print(my_list)"
   ]
  },
  {
   "cell_type": "code",
   "execution_count": 64,
   "id": "5066096a-b37b-4c9e-bf9c-768e193b9fc0",
   "metadata": {},
   "outputs": [
    {
     "name": "stdout",
     "output_type": "stream",
     "text": [
      "[]\n"
     ]
    }
   ],
   "source": [
    "# Clearing a List\n",
    "# It will remove all the elements from the list\n",
    "my_list = [10, 20, 30, 40, 50]\n",
    "my_list.clear()\n",
    "print(my_list)"
   ]
  },
  {
   "cell_type": "code",
   "execution_count": 65,
   "id": "9fa98f4b-9468-453c-8c86-0ec8760e10f6",
   "metadata": {},
   "outputs": [],
   "source": [
    "# Ques 4: Compare and contrast tuples and lists the examples?"
   ]
  },
  {
   "cell_type": "code",
   "execution_count": 68,
   "id": "23a8aa79-8e8d-44e1-9609-76cfb9171a81",
   "metadata": {},
   "outputs": [
    {
     "name": "stdout",
     "output_type": "stream",
     "text": [
      "[1, 10, 3]\n"
     ]
    }
   ],
   "source": [
    "#Mutability\n",
    "#For list - elements can be added, modified and removed element\n",
    "# modify\n",
    "my_list = [1, 2, 3]\n",
    "my_list[1] = 10\n",
    "print(my_list)"
   ]
  },
  {
   "cell_type": "code",
   "execution_count": 69,
   "id": "065a83bd-e063-49e1-9a30-1163fc98ab12",
   "metadata": {},
   "outputs": [
    {
     "name": "stdout",
     "output_type": "stream",
     "text": [
      "[1, 2, 3, 4]\n"
     ]
    }
   ],
   "source": [
    "#append\n",
    "my_list = [1, 2, 3]\n",
    "my_list.append(4)\n",
    "print(my_list)"
   ]
  },
  {
   "cell_type": "code",
   "execution_count": 70,
   "id": "1b2bab12-6696-4e83-8b69-a539b0c85bd2",
   "metadata": {},
   "outputs": [
    {
     "name": "stdout",
     "output_type": "stream",
     "text": [
      "[1, 2]\n"
     ]
    }
   ],
   "source": [
    "#remove\n",
    "my_list = [1, 2, 3]\n",
    "my_list.remove(3)\n",
    "print(my_list)"
   ]
  },
  {
   "cell_type": "code",
   "execution_count": 71,
   "id": "fc7bc6e9-5d18-4064-b20c-019224bf5656",
   "metadata": {},
   "outputs": [],
   "source": [
    "#Mutability\n",
    "#For tuple - elements cannot be added, modified and removed element\n",
    "# modify"
   ]
  },
  {
   "cell_type": "code",
   "execution_count": 73,
   "id": "cfdddbb8-58eb-4a56-a2ec-c9eb2592d385",
   "metadata": {},
   "outputs": [
    {
     "name": "stdout",
     "output_type": "stream",
     "text": [
      "[[1, 2, 3], [4, 5, 6]]\n"
     ]
    }
   ],
   "source": [
    "# Nested Structures\n",
    "# list inside list\n",
    "my_list = [[1, 2, 3], [4, 5, 6]]\n",
    "print(my_list)"
   ]
  },
  {
   "cell_type": "code",
   "execution_count": 74,
   "id": "288863b8-c5ce-432b-b616-6038b8d1442b",
   "metadata": {},
   "outputs": [
    {
     "name": "stdout",
     "output_type": "stream",
     "text": [
      "((1, 2, 3), (4, 5, 6))\n"
     ]
    }
   ],
   "source": [
    "# Nested Structures\n",
    "# Tuple inside tuples\n",
    "my_list = ((1, 2, 3), (4, 5, 6))\n",
    "print(my_list)"
   ]
  },
  {
   "cell_type": "code",
   "execution_count": 75,
   "id": "a97db0ad-7c17-4203-8e33-9d81221aeffe",
   "metadata": {},
   "outputs": [],
   "source": [
    "#Ques5: Describe the key features of sets and provide examples of their use?"
   ]
  },
  {
   "cell_type": "code",
   "execution_count": 77,
   "id": "f220bb31-5236-42aa-a16e-fdba93404ad3",
   "metadata": {},
   "outputs": [
    {
     "name": "stdout",
     "output_type": "stream",
     "text": [
      "{1, 2, 3, 4}\n"
     ]
    }
   ],
   "source": [
    "#Unordered Collection\n",
    "my_set = {1, 2, 3, 4}\n",
    "print(my_set)"
   ]
  },
  {
   "cell_type": "code",
   "execution_count": 78,
   "id": "4eae433e-5256-489e-9b6d-91f3241c72ca",
   "metadata": {},
   "outputs": [
    {
     "name": "stdout",
     "output_type": "stream",
     "text": [
      "{1, 2, 3, 4}\n"
     ]
    }
   ],
   "source": [
    "# Unique Elements\n",
    "my_set = {1, 2, 2, 3, 4}\n",
    "print(my_set)"
   ]
  },
  {
   "cell_type": "code",
   "execution_count": 81,
   "id": "f0abc8aa-bcb2-4a2d-ad2a-b0a067a7a49b",
   "metadata": {},
   "outputs": [
    {
     "name": "stdout",
     "output_type": "stream",
     "text": [
      "{1, 2, 3, 4}\n"
     ]
    }
   ],
   "source": [
    "#mutable \n",
    "#It means you can add remove in a set\n",
    "my_set = {1, 2, 3}\n",
    "my_set.add(4)  \n",
    "print(my_set)   "
   ]
  },
  {
   "cell_type": "code",
   "execution_count": 80,
   "id": "a4a12ce0-91c9-4eb7-8fe4-d4211b14245a",
   "metadata": {},
   "outputs": [
    {
     "name": "stdout",
     "output_type": "stream",
     "text": [
      "{1, 3}\n"
     ]
    }
   ],
   "source": [
    "my_set = {1, 2, 3}\n",
    "my_set.remove(2)  \n",
    "print(my_set)"
   ]
  },
  {
   "cell_type": "code",
   "execution_count": 82,
   "id": "caf677da-a904-49cd-94ea-1cbe047215fc",
   "metadata": {},
   "outputs": [
    {
     "name": "stdout",
     "output_type": "stream",
     "text": [
      "{1, 2, 3, 4, 5, 6}\n",
      "{3, 4}\n",
      "{1, 2}\n",
      "{1, 2, 5, 6}\n"
     ]
    }
   ],
   "source": [
    "#Mathematical Set Operations\n",
    "set_a = {1, 2, 3, 4}\n",
    "set_b = {3, 4, 5, 6}\n",
    "\n",
    "# Union: All unique elements from both sets\n",
    "print(set_a | set_b) \n",
    "\n",
    "# Intersection: Elements common to both sets\n",
    "print(set_a & set_b)  \n",
    "\n",
    "# Difference: Elements in set_a but not in set_b\n",
    "print(set_a - set_b) \n",
    "\n",
    "# Symmetric Difference: Elements in either set_a or set_b, but not both\n",
    "print(set_a ^ set_b) "
   ]
  },
  {
   "cell_type": "code",
   "execution_count": 84,
   "id": "5bdaf7f3-bb16-4dc9-9a5f-400509e022f4",
   "metadata": {},
   "outputs": [
    {
     "name": "stdout",
     "output_type": "stream",
     "text": [
      "{1, 2, 3, 4, 5}\n"
     ]
    }
   ],
   "source": [
    "#Duplicate Removal from a Collection\n",
    "my_set = [1, 2, 2, 3, 4, 4, 5]\n",
    "unique_set = set(my_set)  \n",
    "print(unique_set)"
   ]
  },
  {
   "cell_type": "code",
   "execution_count": 86,
   "id": "b20138fa-6088-4391-ac73-8a8e4e566365",
   "metadata": {},
   "outputs": [
    {
     "name": "stdout",
     "output_type": "stream",
     "text": [
      "{1, 2, 3, 4, 5}\n",
      "{1, 3, 4, 5}\n"
     ]
    }
   ],
   "source": [
    "# Method that set supports\n",
    "# Add an element\n",
    "my_set = {1, 2, 2, 3, 4, 4, 5}\n",
    "my_set.add(4)\n",
    "print(my_set) "
   ]
  },
  {
   "cell_type": "code",
   "execution_count": 90,
   "id": "c005ac5f-6d33-43f4-a374-7611fb9c7d84",
   "metadata": {},
   "outputs": [
    {
     "name": "stdout",
     "output_type": "stream",
     "text": [
      "{1, 4, 5}\n"
     ]
    }
   ],
   "source": [
    "# remove an element\n",
    "my_set.remove(3)\n",
    "print(my_set)"
   ]
  },
  {
   "cell_type": "code",
   "execution_count": 88,
   "id": "5a13d09e-176f-4046-9398-0c7924b22624",
   "metadata": {},
   "outputs": [
    {
     "name": "stdout",
     "output_type": "stream",
     "text": [
      "{1, 3, 4, 5}\n"
     ]
    }
   ],
   "source": [
    "# Discard an element\n",
    "my_set.discard(10)\n",
    "print(my_set)"
   ]
  },
  {
   "cell_type": "code",
   "execution_count": 91,
   "id": "d64c2e0e-0708-47ca-8505-939c9dac01e6",
   "metadata": {},
   "outputs": [],
   "source": [
    "# Ques 6: Discuss the use cases of tuples and sets in Python programming?"
   ]
  },
  {
   "cell_type": "code",
   "execution_count": 93,
   "id": "517c2f25-a63b-4237-aba7-5fc89ab9dd14",
   "metadata": {},
   "outputs": [
    {
     "ename": "TypeError",
     "evalue": "'tuple' object does not support item assignment",
     "output_type": "error",
     "traceback": [
      "\u001b[0;31m---------------------------------------------------------------------------\u001b[0m",
      "\u001b[0;31mTypeError\u001b[0m                                 Traceback (most recent call last)",
      "Cell \u001b[0;32mIn[93], line 4\u001b[0m\n\u001b[1;32m      1\u001b[0m \u001b[38;5;66;03m#Use Cases of Tuples\u001b[39;00m\n\u001b[1;32m      2\u001b[0m \u001b[38;5;66;03m#Fixed Data Structures\u001b[39;00m\n\u001b[1;32m      3\u001b[0m my_tuple \u001b[38;5;241m=\u001b[39m (\u001b[38;5;241m10\u001b[39m, \u001b[38;5;241m20\u001b[39m)\n\u001b[0;32m----> 4\u001b[0m \u001b[43mmy_tuple\u001b[49m\u001b[43m[\u001b[49m\u001b[38;5;241;43m0\u001b[39;49m\u001b[43m]\u001b[49m \u001b[38;5;241m=\u001b[39m \u001b[38;5;241m12\u001b[39m\n\u001b[1;32m      5\u001b[0m \u001b[38;5;28mprint\u001b[39m (my_tuple)\n\u001b[1;32m      7\u001b[0m \u001b[38;5;66;03m# Tht means you cannot modify\u001b[39;00m\n",
      "\u001b[0;31mTypeError\u001b[0m: 'tuple' object does not support item assignment"
     ]
    }
   ],
   "source": [
    "#Use Cases of Tuples\n",
    "#Fixed Data Structures\n",
    "my_tuple = (10, 20)\n",
    "my_tuple[0] = 12\n",
    "print (my_tuple)\n",
    "\n",
    "# Tht means you cannot modify"
   ]
  },
  {
   "cell_type": "code",
   "execution_count": 94,
   "id": "4b8ac7c5-e8d3-46bb-8c1d-f11034c17164",
   "metadata": {},
   "outputs": [
    {
     "name": "stdout",
     "output_type": "stream",
     "text": [
      "('John Doe', 28, 'Engineer')\n"
     ]
    }
   ],
   "source": [
    "# Heterogeneous Data\n",
    "my_tuple = (\"John Doe\", 28, \"Engineer\")\n",
    "print (my_tuple)"
   ]
  },
  {
   "cell_type": "code",
   "execution_count": 96,
   "id": "9b8bbb1f-6bb2-471f-91f1-7256e37c8fc2",
   "metadata": {},
   "outputs": [
    {
     "name": "stdout",
     "output_type": "stream",
     "text": [
      "{1, 2, 3, 4, 5}\n"
     ]
    }
   ],
   "source": [
    "#Use Cases of Sets\n",
    "#Removing Duplicates\n",
    "my_set = {1, 2, 2, 3, 4, 4, 5}\n",
    "print(my_set)"
   ]
  },
  {
   "cell_type": "code",
   "execution_count": 97,
   "id": "a7e17b0e-84a0-4737-b8c1-7b2d6f0b49d0",
   "metadata": {},
   "outputs": [
    {
     "name": "stdout",
     "output_type": "stream",
     "text": [
      "{1, 2, 3, 4, 5, 6}\n",
      "{3, 4}\n",
      "{1, 2}\n",
      "{1, 2, 5, 6}\n"
     ]
    }
   ],
   "source": [
    "# Mathematical Set Operations\n",
    "set_a = {1, 2, 3, 4}\n",
    "set_b = {3, 4, 5, 6}\n",
    "\n",
    "# Union: All unique elements from both sets\n",
    "print(set_a | set_b) \n",
    "\n",
    "# Intersection: Elements common to both sets\n",
    "print(set_a & set_b)  \n",
    "\n",
    "# Difference: Elements in set_a but not in set_b\n",
    "print(set_a - set_b) \n",
    "\n",
    "# Symmetric Difference: Elements in either set_a or set_b, but not both\n",
    "print(set_a ^ set_b) "
   ]
  },
  {
   "cell_type": "code",
   "execution_count": 98,
   "id": "d560eb9a-42ec-4466-925b-6e555b671df5",
   "metadata": {},
   "outputs": [],
   "source": [
    "# Ques 7: Describe how to add, modify and delete items in a dictionary the examples?"
   ]
  },
  {
   "cell_type": "code",
   "execution_count": 100,
   "id": "6be2372c-bc12-4026-a354-5ea94429f6e4",
   "metadata": {},
   "outputs": [
    {
     "name": "stdout",
     "output_type": "stream",
     "text": [
      "{'name': 'Alice', 'age': 25, 'city': 'New York'}\n"
     ]
    }
   ],
   "source": [
    "# Adding Items to a Dictionary\n",
    "my_dict = {}\n",
    "my_dict[\"name\"] = \"Alice\"\n",
    "my_dict[\"age\"] = 25\n",
    "my_dict[\"city\"] = \"New York\"\n",
    "\n",
    "print(my_dict)"
   ]
  },
  {
   "cell_type": "code",
   "execution_count": 102,
   "id": "a9d5db65-09cc-4052-92ad-ddb660fd8733",
   "metadata": {},
   "outputs": [
    {
     "name": "stdout",
     "output_type": "stream",
     "text": [
      "{'name': 'Alice', 'age': 25, 'city': 'England'}\n"
     ]
    }
   ],
   "source": [
    "# update\n",
    "my_dict = {\"name\": \"Alice\"}\n",
    "my_dict.update({\"age\": 25, \"city\": \"England\"})\n",
    "\n",
    "print(my_dict)"
   ]
  },
  {
   "cell_type": "code",
   "execution_count": 104,
   "id": "d11338ec-8b42-432c-959b-95dddd81325e",
   "metadata": {},
   "outputs": [
    {
     "name": "stdout",
     "output_type": "stream",
     "text": [
      "{'name': 'Alice', 'age': 25}\n"
     ]
    }
   ],
   "source": [
    "# Deleting Items from a Dictionary\n",
    "# del() statement\n",
    "my_dict = {\"name\": \"Alice\", \"age\": 25, \"city\": \"New York\"}\n",
    "del my_dict[\"city\"]\n",
    "print(my_dict)"
   ]
  },
  {
   "cell_type": "code",
   "execution_count": 107,
   "id": "c37fafe6-a7cf-4b9a-9522-d2d63c457004",
   "metadata": {},
   "outputs": [
    {
     "name": "stdout",
     "output_type": "stream",
     "text": [
      "{'name': 'Alice', 'city': 'New York'}\n"
     ]
    }
   ],
   "source": [
    "# pop() method\n",
    "my_dict = {\"name\": \"Alice\", \"age\": 25, \"city\": \"New York\"}\n",
    "my_dict.pop(\"age\") \n",
    "print(my_dict)"
   ]
  },
  {
   "cell_type": "code",
   "execution_count": 110,
   "id": "9634fb0e-8fff-4f65-9f21-4203b2aed380",
   "metadata": {},
   "outputs": [
    {
     "name": "stdout",
     "output_type": "stream",
     "text": [
      "{'name': 'Alice', 'age': 25}\n"
     ]
    }
   ],
   "source": [
    "# popitem() method\n",
    "my_dict = {\"name\": \"Alice\", \"age\": 25, \"city\": \"New York\"}\n",
    "my_dict.popitem()\n",
    "print(my_dict)"
   ]
  },
  {
   "cell_type": "code",
   "execution_count": 111,
   "id": "e7913160-1337-43f0-bb1a-9c21a86b2590",
   "metadata": {},
   "outputs": [
    {
     "name": "stdout",
     "output_type": "stream",
     "text": [
      "{}\n"
     ]
    }
   ],
   "source": [
    "# clear() method\n",
    "my_dict = {\"name\": \"Alice\", \"age\": 25, \"city\": \"New York\"}\n",
    "my_dict.clear()\n",
    "print(my_dict)"
   ]
  },
  {
   "cell_type": "code",
   "execution_count": 114,
   "id": "4ff7e3d7-4517-4abd-b6db-e16df032e299",
   "metadata": {},
   "outputs": [
    {
     "name": "stdout",
     "output_type": "stream",
     "text": [
      "one\n",
      "Alice\n",
      "coordinates\n"
     ]
    }
   ],
   "source": [
    "#Consistency and Reliability of Hashing\n",
    "my_dict = {1: \"one\", \"name\": \"Alice\", (10, 20): \"coordinates\"}\n",
    "print(my_dict[1])         \n",
    "print(my_dict[\"name\"])      \n",
    "print(my_dict[(10, 20)])    "
   ]
  },
  {
   "cell_type": "code",
   "execution_count": null,
   "id": "9ced3ba4-f7a2-4693-bc23-cf54c726a992",
   "metadata": {},
   "outputs": [],
   "source": []
  }
 ],
 "metadata": {
  "kernelspec": {
   "display_name": "Python 3 (ipykernel)",
   "language": "python",
   "name": "python3"
  },
  "language_info": {
   "codemirror_mode": {
    "name": "ipython",
    "version": 3
   },
   "file_extension": ".py",
   "mimetype": "text/x-python",
   "name": "python",
   "nbconvert_exporter": "python",
   "pygments_lexer": "ipython3",
   "version": "3.10.8"
  }
 },
 "nbformat": 4,
 "nbformat_minor": 5
}
